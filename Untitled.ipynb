{
 "cells": [
  {
   "cell_type": "code",
   "execution_count": 1,
   "id": "polished-witness",
   "metadata": {},
   "outputs": [],
   "source": [
    "import pandas as pd \n",
    "import numpy as np\n",
    "import matplotlib.pyplot as plt\n",
    "%matplotlib inline"
   ]
  },
  {
   "cell_type": "code",
   "execution_count": 2,
   "id": "illegal-purple",
   "metadata": {},
   "outputs": [],
   "source": [
    "data = pd.read_csv('dataset/MovieReviewTrainingDatabase.csv')"
   ]
  },
  {
   "cell_type": "code",
   "execution_count": 3,
   "id": "competitive-compromise",
   "metadata": {},
   "outputs": [
    {
     "data": {
      "text/html": [
       "<div>\n",
       "<style scoped>\n",
       "    .dataframe tbody tr th:only-of-type {\n",
       "        vertical-align: middle;\n",
       "    }\n",
       "\n",
       "    .dataframe tbody tr th {\n",
       "        vertical-align: top;\n",
       "    }\n",
       "\n",
       "    .dataframe thead th {\n",
       "        text-align: right;\n",
       "    }\n",
       "</style>\n",
       "<table border=\"1\" class=\"dataframe\">\n",
       "  <thead>\n",
       "    <tr style=\"text-align: right;\">\n",
       "      <th></th>\n",
       "      <th>sentiment</th>\n",
       "      <th>review</th>\n",
       "    </tr>\n",
       "  </thead>\n",
       "  <tbody>\n",
       "    <tr>\n",
       "      <th>0</th>\n",
       "      <td>Positive</td>\n",
       "      <td>With all this stuff going down at the moment w...</td>\n",
       "    </tr>\n",
       "    <tr>\n",
       "      <th>1</th>\n",
       "      <td>Positive</td>\n",
       "      <td>'The Classic War of the Worlds' by Timothy Hin...</td>\n",
       "    </tr>\n",
       "    <tr>\n",
       "      <th>2</th>\n",
       "      <td>Negative</td>\n",
       "      <td>The film starts with a manager (Nicholas Bell)...</td>\n",
       "    </tr>\n",
       "    <tr>\n",
       "      <th>3</th>\n",
       "      <td>Negative</td>\n",
       "      <td>It must be assumed that those who praised this...</td>\n",
       "    </tr>\n",
       "    <tr>\n",
       "      <th>4</th>\n",
       "      <td>Positive</td>\n",
       "      <td>Superbly trashy and wondrously unpretentious 8...</td>\n",
       "    </tr>\n",
       "  </tbody>\n",
       "</table>\n",
       "</div>"
      ],
      "text/plain": [
       "  sentiment                                             review\n",
       "0  Positive  With all this stuff going down at the moment w...\n",
       "1  Positive  'The Classic War of the Worlds' by Timothy Hin...\n",
       "2  Negative  The film starts with a manager (Nicholas Bell)...\n",
       "3  Negative  It must be assumed that those who praised this...\n",
       "4  Positive  Superbly trashy and wondrously unpretentious 8..."
      ]
     },
     "execution_count": 3,
     "metadata": {},
     "output_type": "execute_result"
    }
   ],
   "source": [
    "data.head()"
   ]
  },
  {
   "cell_type": "markdown",
   "id": "hired-demand",
   "metadata": {},
   "source": [
    "The data is presented in two columns \n",
    "* **sentiment** : there is two labels [positive , negative] presenting the sentiment expressed by the content.\n",
    "* **review** : present the content in question"
   ]
  },
  {
   "cell_type": "markdown",
   "id": "apart-thong",
   "metadata": {},
   "source": [
    "We shall proceed by preparing the data to be fed to our model. In another words , we have to turn this string data into numerical. For the class column is simple , we can map postive into 1 and negative to 0. "
   ]
  },
  {
   "cell_type": "code",
   "execution_count": 4,
   "id": "split-eleven",
   "metadata": {},
   "outputs": [
    {
     "data": {
      "text/plain": [
       "array(['Positive', 'Negative'], dtype=object)"
      ]
     },
     "execution_count": 4,
     "metadata": {},
     "output_type": "execute_result"
    }
   ],
   "source": [
    "data.sentiment.unique()"
   ]
  },
  {
   "cell_type": "code",
   "execution_count": 6,
   "id": "stretch-asset",
   "metadata": {},
   "outputs": [],
   "source": [
    "data.sentiment = data.sentiment.apply(lambda x: 1 if x=='Positive' else 0)"
   ]
  },
  {
   "cell_type": "code",
   "execution_count": 8,
   "id": "continuing-trademark",
   "metadata": {},
   "outputs": [
    {
     "data": {
      "text/plain": [
       "96"
      ]
     },
     "execution_count": 8,
     "metadata": {},
     "output_type": "execute_result"
    }
   ],
   "source": [
    "len(data[data.duplicated()])"
   ]
  },
  {
   "cell_type": "code",
   "execution_count": 9,
   "id": "accomplished-recovery",
   "metadata": {},
   "outputs": [],
   "source": [
    "data.drop_duplicates(inplace=True)"
   ]
  },
  {
   "cell_type": "markdown",
   "id": "according-request",
   "metadata": {},
   "source": [
    "For the review column we should do further preprocessing:\n",
    "* Remove stop words \n",
    "* Remove punctuations\n",
    "* Uncaptialize words\n",
    "* Encode words into vectors"
   ]
  },
  {
   "cell_type": "code",
   "execution_count": 88,
   "id": "worldwide-number",
   "metadata": {},
   "outputs": [],
   "source": [
    "import re \n",
    "from stop_words import get_stop_words\n",
    "from string import punctuation\n",
    "stops = get_stop_words(language='en')\n",
    "def preprocess(text):\n",
    "    text = text.translate(str.maketrans('', '', punctuation))\n",
    "    return \" \".join([word.lower() for word in text.split(\" \") if not word.lower() in stops])"
   ]
  },
  {
   "cell_type": "markdown",
   "id": "brazilian-preserve",
   "metadata": {},
   "source": [
    "_________"
   ]
  },
  {
   "cell_type": "code",
   "execution_count": 21,
   "id": "funny-bacon",
   "metadata": {},
   "outputs": [],
   "source": [
    "from sklearn.svm import SVC"
   ]
  },
  {
   "cell_type": "code",
   "execution_count": 68,
   "id": "arranged-institution",
   "metadata": {},
   "outputs": [],
   "source": [
    "from sklearn.metrics import accuracy_score, classification_report"
   ]
  },
  {
   "cell_type": "code",
   "execution_count": 38,
   "id": "broken-enemy",
   "metadata": {},
   "outputs": [],
   "source": [
    "from sentence_transformers import SentenceTransformer\n",
    "model = SentenceTransformer('paraphrase-distilroberta-base-v1')"
   ]
  },
  {
   "cell_type": "code",
   "execution_count": 44,
   "id": "caring-breeding",
   "metadata": {},
   "outputs": [
    {
     "data": {
      "application/vnd.jupyter.widget-view+json": {
       "model_id": "fee0a42f744b4a6ab30b3eae73dc9752",
       "version_major": 2,
       "version_minor": 0
      },
      "text/plain": [
       "  0%|          | 0/24904 [00:00<?, ?it/s]"
      ]
     },
     "metadata": {},
     "output_type": "display_data"
    }
   ],
   "source": [
    "from tqdm.notebook import tqdm\n",
    "tqdm.pandas()\n",
    "data['encoding'] = data.review.progress_apply(lambda w:model.encode(w))"
   ]
  },
  {
   "cell_type": "code",
   "execution_count": 46,
   "id": "dried-shelf",
   "metadata": {},
   "outputs": [],
   "source": [
    "X_train , X_test , y_train , y_test = train_test_split(data['encoding'],data.sentiment,random_state=42,test_size=0.25)"
   ]
  },
  {
   "cell_type": "code",
   "execution_count": 61,
   "id": "induced-species",
   "metadata": {},
   "outputs": [],
   "source": [
    "svm = SVC()\n",
    "model = svm.fit(np.array(X_train.tolist()),y_train)"
   ]
  },
  {
   "cell_type": "code",
   "execution_count": 62,
   "id": "eligible-zambia",
   "metadata": {},
   "outputs": [],
   "source": [
    "pred = model.predict(np.array(X_train.tolist()))"
   ]
  },
  {
   "cell_type": "code",
   "execution_count": 63,
   "id": "alpha-steps",
   "metadata": {},
   "outputs": [
    {
     "data": {
      "text/plain": [
       "0.9166934361280651"
      ]
     },
     "execution_count": 63,
     "metadata": {},
     "output_type": "execute_result"
    }
   ],
   "source": [
    "accuracy_score(y_train,pred)"
   ]
  },
  {
   "cell_type": "code",
   "execution_count": 64,
   "id": "still-practitioner",
   "metadata": {},
   "outputs": [],
   "source": [
    "pred_test = model.predict(np.array(X_test.tolist()))"
   ]
  },
  {
   "cell_type": "code",
   "execution_count": 66,
   "id": "subtle-spoke",
   "metadata": {},
   "outputs": [
    {
     "data": {
      "text/plain": [
       "0.8355284291680052"
      ]
     },
     "execution_count": 66,
     "metadata": {},
     "output_type": "execute_result"
    }
   ],
   "source": [
    "accuracy_score(y_test,pred_test)"
   ]
  },
  {
   "cell_type": "code",
   "execution_count": 70,
   "id": "naval-burlington",
   "metadata": {},
   "outputs": [
    {
     "name": "stdout",
     "output_type": "stream",
     "text": [
      "              precision    recall  f1-score   support\n",
      "\n",
      "           0       0.92      0.91      0.92      9343\n",
      "           1       0.91      0.92      0.92      9335\n",
      "\n",
      "    accuracy                           0.92     18678\n",
      "   macro avg       0.92      0.92      0.92     18678\n",
      "weighted avg       0.92      0.92      0.92     18678\n",
      "\n"
     ]
    }
   ],
   "source": [
    "print(classification_report(y_train,pred))"
   ]
  },
  {
   "cell_type": "code",
   "execution_count": 71,
   "id": "charming-knight",
   "metadata": {},
   "outputs": [
    {
     "name": "stdout",
     "output_type": "stream",
     "text": [
      "              precision    recall  f1-score   support\n",
      "\n",
      "           0       0.84      0.82      0.83      3089\n",
      "           1       0.83      0.85      0.84      3137\n",
      "\n",
      "    accuracy                           0.84      6226\n",
      "   macro avg       0.84      0.84      0.84      6226\n",
      "weighted avg       0.84      0.84      0.84      6226\n",
      "\n"
     ]
    }
   ],
   "source": [
    "print(classification_report(y_test,pred_test))"
   ]
  },
  {
   "cell_type": "code",
   "execution_count": null,
   "id": "front-queens",
   "metadata": {},
   "outputs": [],
   "source": []
  }
 ],
 "metadata": {
  "kernelspec": {
   "display_name": "Python 3",
   "language": "python",
   "name": "python3"
  },
  "language_info": {
   "codemirror_mode": {
    "name": "ipython",
    "version": 3
   },
   "file_extension": ".py",
   "mimetype": "text/x-python",
   "name": "python",
   "nbconvert_exporter": "python",
   "pygments_lexer": "ipython3",
   "version": "3.7.10"
  }
 },
 "nbformat": 4,
 "nbformat_minor": 5
}
